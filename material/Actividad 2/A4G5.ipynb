{
  "nbformat": 4,
  "nbformat_minor": 0,
  "metadata": {
    "colab": {
      "name": "A4G5.ipynb",
      "provenance": []
    },
    "kernelspec": {
      "name": "python3",
      "display_name": "Python 3"
    },
    "language_info": {
      "name": "python"
    }
  },
  "cells": [
    {
      "cell_type": "markdown",
      "source": [
        "Prueba"
      ],
      "metadata": {
        "id": "jXIu3vZAU9de"
      }
    },
    {
      "cell_type": "code",
      "execution_count": null,
      "metadata": {
        "id": "gRQt0OrGU49i"
      },
      "outputs": [],
      "source": [
        ""
      ]
    }
  ]
}